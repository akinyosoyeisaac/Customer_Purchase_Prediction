{
 "cells": [
  {
   "cell_type": "markdown",
   "id": "431869ca-b63b-4598-9a31-5ed11201d0a5",
   "metadata": {
    "tags": []
   },
   "source": [
    "# MODEL (XGBClassifier)\n",
    "## In this notebook we will be building a XGradientBoost Classifier\n",
    "*  We want use this model to beat our baseline model.\n",
    "> FLOW\n",
    ">>\n",
    ">> Having know that our data is still imbalance despite the feature engineering, to ensure that this those not affect the performance of our model our train data will be splitted into train and validation set using ```stratifiedshufflesplit``` to ensure there are equal representation of each class to be predicted in our train and validation set.\n",
    ">>\n",
    ">> The train set is further augmented for class balance using the ```randomoversampler``` this is to ensure that our model is not just craming the train set and to avoid over generalization\n",
    ">>\n",
    ">> After this we train our model on the train set and evaluate it on the validation set using confusion matrix\n",
    ">>\n",
    ">> We are also interested in understanding the contribution of each features in our model\n",
    ">>\n",
    "> **Note this workflow is applicable to all the other models**"
   ]
  },
  {
   "cell_type": "code",
   "execution_count": 1,
   "id": "71566227-66eb-4489-b31c-e8a8f2f985c7",
   "metadata": {},
   "outputs": [],
   "source": [
    "# Importing necessary libraries\n",
    "import pandas as pd\n",
    "import numpy as np\n",
    "import matplotlib.pyplot as plt\n",
    "from sklearn.model_selection import StratifiedShuffleSplit\n",
    "from imblearn.over_sampling import RandomOverSampler \n",
    "from imblearn.pipeline import Pipeline\n",
    "from sklearn.impute import SimpleImputer\n",
    "from xgboost import XGBClassifier\n",
    "from sklearn.metrics import ConfusionMatrixDisplay, classification_report\n",
    "from sklearn.preprocessing import StandardScaler\n",
    "\n",
    "plt.style.use(\"seaborn-dark\")"
   ]
  },
  {
   "cell_type": "code",
   "execution_count": 2,
   "id": "895d9653-b58e-4f63-acb5-524cd2bc66af",
   "metadata": {},
   "outputs": [],
   "source": [
    "# Defining the path to train, test data\n",
    "test_pth = \"test_Wf7sxXF.csv\"\n",
    "train_pth = \"train_wn75k28.csv\""
   ]
  },
  {
   "cell_type": "code",
   "execution_count": 3,
   "id": "2daf24a4-0474-41c7-a106-7a1dcfe45980",
   "metadata": {},
   "outputs": [],
   "source": [
    "# Wrangling our data, this process is derived from the feature engineering section\n",
    "\n",
    "def wrangling(path):\n",
    "    df = pd.read_csv(path, index_col='id')\n",
    "    \n",
    "    # Removing missing values for products_purchased and signup_date for products not purchased\n",
    "    product_not_bought = df[df[\"buy\"] == 0]\n",
    "    product_not_bought_purchased_isna = product_not_bought[product_not_bought[\"products_purchased\"].isna()]\n",
    "    index_purchased_isna = product_not_bought_purchased_isna.index\n",
    "    df.drop(index = index_purchased_isna, inplace=True)\n",
    "    \n",
    "    product_not_bought = df[df[\"buy\"] == 0]\n",
    "    product_not_bought_signup_date= product_not_bought[product_not_bought[\"signup_date\"].isna()]\n",
    "    index_signup_date_isna = product_not_bought_signup_date.index\n",
    "    df.drop(index = index_signup_date_isna, inplace=True)\n",
    "    \n",
    "    # Summing all the user activity\n",
    "    user_activity_col = [x for x in df.columns if x.startswith(\"user\")]\n",
    "    df[\"sum_user_activities\"] = np.sum([df[x] for x in user_activity_col], 0)\n",
    "    \n",
    "    # Making the date columns usable for our model\n",
    "    df[\"created_at\"] = pd.to_datetime(df[\"created_at\"], format=\"%Y-%m-%d\")\n",
    "    df[\"signup_date\"] = pd.to_datetime(df[\"signup_date\"], format=\"%Y-%m-%d\")\n",
    "    day = df[\"created_at\"] - df[\"signup_date\"]\n",
    "    day = day.replace({np.nan:day.max()})\n",
    "    day = day.astype('str').str.split(\" \", expand=True)[0]\n",
    "    day[\"day\"] = np.abs(day.astype('int'))\n",
    "    \n",
    "    # Summing the campaign vars in the data\n",
    "    camp_col = [x for x in df.columns if x.startswith(\"camp\")]\n",
    "    df[\"sum_camp\"] = np.sum([df[x] for x in camp_col], 0)\n",
    "    \n",
    "    # imputting missing value\n",
    "    df[\"products_purchased\"] = df[\"products_purchased\"].fillna(0)\n",
    "    \n",
    "    # Removing unwanted columns\n",
    "    df.drop(columns = camp_col + [\"created_at\", \"signup_date\"] + user_activity_col, inplace=True)\n",
    "    return df"
   ]
  },
  {
   "cell_type": "code",
   "execution_count": 4,
   "id": "46ed5374-502e-48ae-af8c-52fd91a7736f",
   "metadata": {},
   "outputs": [],
   "source": [
    "# Loading our train data into our notebook\n",
    "df = wrangling(train_pth)"
   ]
  },
  {
   "cell_type": "code",
   "execution_count": 5,
   "id": "48ed267d-0d9c-41ea-820b-e14dfcd20d01",
   "metadata": {},
   "outputs": [],
   "source": [
    "# Define the feature and label for our data using X and y respectively\n",
    "X = df.drop(columns=\"buy\")\n",
    "y = df[\"buy\"]"
   ]
  },
  {
   "cell_type": "code",
   "execution_count": 6,
   "id": "92f73c59-5f92-48df-b91e-5133faa453f3",
   "metadata": {},
   "outputs": [],
   "source": [
    "# Splitting our data into train and validation set, with 80% used for training and 20% for validation\n",
    "sss = StratifiedShuffleSplit(n_splits= 100, test_size=0.2, random_state=234)\n",
    "for train_index, val_index in sss.split(X, y):\n",
    "    X_train, y_train = X.copy().iloc[train_index], y.copy().iloc[train_index]\n",
    "    X_val, y_val = X.copy().iloc[val_index], y.copy().iloc[val_index]"
   ]
  },
  {
   "cell_type": "markdown",
   "id": "11dc724a-7b5a-4dc8-a49c-38d4eff6145e",
   "metadata": {},
   "source": [
    "### DEALING WITH IMBALANCE\n",
    "* As it has been pointed out earlier that our data is imbalance we train and up scale the class with less count which in the case is class 1 and the approach taken is to scale the train set to 10,000 from 1598"
   ]
  },
  {
   "cell_type": "code",
   "execution_count": 7,
   "id": "3091e62e-3f05-4908-8295-529140722254",
   "metadata": {},
   "outputs": [
    {
     "name": "stdout",
     "output_type": "stream",
     "text": [
      "Initial state of class before augmenting\n",
      " 0    10762\n",
      "1     1598\n",
      "Name: buy, dtype: int64\n",
      "\n",
      "Final state of class after augmenting\n",
      " 0    10762\n",
      "1    10000\n",
      "Name: buy, dtype: int64\n"
     ]
    }
   ],
   "source": [
    "print(\"Initial state of class before augmenting\\n\", y_train.value_counts(), end=\"\\n\\n\") # Checking the class count of train set before augmentation\n",
    "\n",
    "resampler = RandomOverSampler(sampling_strategy={0:10762, 1:10000}, random_state=234)\n",
    "X_res, y_res = resampler.fit_resample(X_train, y_train)\n",
    "\n",
    "print(\"Final state of class after augmenting\\n\", y_res.value_counts()) # Checking the class count of train set before augmentation"
   ]
  },
  {
   "cell_type": "markdown",
   "id": "5d5dad0b-011e-4ae8-98a7-e8355674db61",
   "metadata": {},
   "source": [
    "### BUILDING MODEL\n",
    "* In building the model the following will be considered\n",
    "1. Imputting missing values\n",
    "2. Because of the high range between our data we are going to be standardizing it\n",
    "3. Finally we will define our logistic regression model\n",
    "* All this phase will be put to gather using a pipeline to afford redundancy and reuseability"
   ]
  },
  {
   "cell_type": "code",
   "execution_count": 8,
   "id": "fb392960-a0b0-4b76-ac93-cdbe57bb2e47",
   "metadata": {},
   "outputs": [
    {
     "data": {
      "text/plain": [
       "Pipeline(steps=[('simpleimputer', SimpleImputer()),\n",
       "                ('standardscaler', StandardScaler()),\n",
       "                ('xgradientboost',\n",
       "                 XGBClassifier(base_score=0.5, booster='gbtree', callbacks=None,\n",
       "                               colsample_bylevel=1, colsample_bynode=1,\n",
       "                               colsample_bytree=1, early_stopping_rounds=None,\n",
       "                               enable_categorical=False, eval_metric=None,\n",
       "                               gamma=0, gpu_id=-1, grow_policy='depthwise',\n",
       "                               importance_type=None, interaction_constraints='',\n",
       "                               learning_rate=0.300000012, max_bin=256,\n",
       "                               max_cat_to_onehot=4, max_delta_step=0,\n",
       "                               max_depth=6, max_leaves=0, min_child_weight=1,\n",
       "                               missing=nan, monotone_constraints='()',\n",
       "                               n_estimators=100, n_jobs=0, num_parallel_tree=1,\n",
       "                               predictor='auto', random_state=234, reg_alpha=0,\n",
       "                               reg_lambda=1, ...))])"
      ]
     },
     "execution_count": 8,
     "metadata": {},
     "output_type": "execute_result"
    }
   ],
   "source": [
    "# Defining our model\n",
    "xgb_model = Pipeline([(\"simpleimputer\", SimpleImputer()), \n",
    "                      (\"standardscaler\", StandardScaler()), \n",
    "                      (\"xgradientboost\", XGBClassifier(random_state=234))\n",
    "                     ])\n",
    "\n",
    "# fitting our data to the model\n",
    "xgb_model.fit(X_res, y_res)"
   ]
  },
  {
   "cell_type": "markdown",
   "id": "babdfa4d-16f2-482e-b815-a53700abd687",
   "metadata": {},
   "source": [
    "### MODEL EVALUATION\n",
    "* The model is evaluated using precision, recall, f1 score and accuracy which is as display below\n",
    "* The model is evaluation not only on the validation set but also on the train set this is to check that our model is not overfitting\n",
    "* Also, the performance of our model can also be visualized as shown below"
   ]
  },
  {
   "cell_type": "code",
   "execution_count": 9,
   "id": "9f1e2bb9-19a7-4305-b7ec-5659f04778e7",
   "metadata": {},
   "outputs": [
    {
     "name": "stdout",
     "output_type": "stream",
     "text": [
      "              precision    recall  f1-score   support\n",
      "\n",
      "           0       0.97      0.90      0.93      2691\n",
      "           1       0.53      0.78      0.63       400\n",
      "\n",
      "    accuracy                           0.88      3091\n",
      "   macro avg       0.75      0.84      0.78      3091\n",
      "weighted avg       0.91      0.88      0.89      3091\n",
      "\n"
     ]
    }
   ],
   "source": [
    "# Evaluating on the validation set\n",
    "print(classification_report(y_val, xgb_model.predict(X_val)))"
   ]
  },
  {
   "cell_type": "code",
   "execution_count": 10,
   "id": "f69e6467-752e-4588-b32a-96d210e1ebb3",
   "metadata": {},
   "outputs": [
    {
     "name": "stdout",
     "output_type": "stream",
     "text": [
      "              precision    recall  f1-score   support\n",
      "\n",
      "           0       0.97      0.91      0.93     10762\n",
      "           1       0.55      0.78      0.65      1598\n",
      "\n",
      "    accuracy                           0.89     12360\n",
      "   macro avg       0.76      0.84      0.79     12360\n",
      "weighted avg       0.91      0.89      0.90     12360\n",
      "\n"
     ]
    }
   ],
   "source": [
    "# Evaluating on the train set\n",
    "print(classification_report(y_train, xgb_model.predict(X_train)))"
   ]
  },
  {
   "cell_type": "code",
   "execution_count": 11,
   "id": "df38d045-a22f-4b3e-b839-f2e8ddb71f36",
   "metadata": {},
   "outputs": [
    {
     "data": {
      "image/png": "[encoded data removed]",
      "text/plain": [
       "<Figure size 432x288 with 2 Axes>"
      ]
     },
     "metadata": {},
     "output_type": "display_data"
    }
   ],
   "source": [
    "# Inpecting the perfomance of our model using confusion matrix\n",
    "ConfusionMatrixDisplay.from_estimator(xgb_model, X_val, y_val, normalize=\"true\");"
   ]
  },
  {
   "cell_type": "markdown",
   "id": "c3b93b19-a777-4314-8d3d-61fa4357236c",
   "metadata": {
    "tags": []
   },
   "source": [
    "### FEATURE IMPORTANCE\n",
    "* Using the coffient of our model we can have an understanding of the contribution of the each feature to the performance of the model\n",
    "* from the table below we can judge that the user_activities greatly contribute to whether a product will be bought or not"
   ]
  },
  {
   "cell_type": "code",
   "execution_count": 12,
   "id": "9b6eb2fc-dd62-4ee5-b47e-ddec7866ff6b",
   "metadata": {},
   "outputs": [
    {
     "data": {
      "text/html": [
       "<style type=\"text/css\">\n",
       "#T_01671_row0_col1, #T_01671_row1_col1, #T_01671_row2_col1 {\n",
       "  background-color: #fff7fb;\n",
       "  color: #000000;\n",
       "}\n",
       "</style>\n",
       "<table id=\"T_01671_\">\n",
       "  <thead>\n",
       "    <tr>\n",
       "      <th class=\"blank level0\" >&nbsp;</th>\n",
       "      <th class=\"col_heading level0 col0\" >feature</th>\n",
       "      <th class=\"col_heading level0 col1\" >importance</th>\n",
       "    </tr>\n",
       "  </thead>\n",
       "  <tbody>\n",
       "    <tr>\n",
       "      <th id=\"T_01671_level0_row0\" class=\"row_heading level0 row0\" >0</th>\n",
       "      <td id=\"T_01671_row0_col0\" class=\"data row0 col0\" >products_purchased</td>\n",
       "      <td id=\"T_01671_row0_col1\" class=\"data row0 col1\" >0.670911</td>\n",
       "    </tr>\n",
       "    <tr>\n",
       "      <th id=\"T_01671_level0_row1\" class=\"row_heading level0 row1\" >1</th>\n",
       "      <td id=\"T_01671_row1_col0\" class=\"data row1 col0\" >sum_user_activities</td>\n",
       "      <td id=\"T_01671_row1_col1\" class=\"data row1 col1\" >0.670911</td>\n",
       "    </tr>\n",
       "    <tr>\n",
       "      <th id=\"T_01671_level0_row2\" class=\"row_heading level0 row2\" >2</th>\n",
       "      <td id=\"T_01671_row2_col0\" class=\"data row2 col0\" >sum_camp</td>\n",
       "      <td id=\"T_01671_row2_col1\" class=\"data row2 col1\" >0.670911</td>\n",
       "    </tr>\n",
       "  </tbody>\n",
       "</table>\n"
      ],
      "text/plain": [
       "<pandas.io.formats.style.Styler at 0x2c95a4d8408>"
      ]
     },
     "execution_count": 12,
     "metadata": {},
     "output_type": "execute_result"
    }
   ],
   "source": [
    "# Extracting the coeffient of our model\n",
    "coeffient = xgb_model.named_steps[\"xgradientboost\"].feature_importances_ \n",
    "feature_importance = pd.DataFrame({\"importance\":coeffient[0], \"feature\":X.columns})[[\"feature\", \"importance\"]]\n",
    "feature_importance.style.background_gradient(axis=0)"
   ]
  },
  {
   "cell_type": "markdown",
   "id": "117e1c25-8f81-4056-a3e1-92242b228207",
   "metadata": {},
   "source": [
    "### RUNNING PREDICTION ON AN UNKNOWN DATA\n",
    "* We use our model to predict a new data\n",
    "* We are going to wraggle our new data to get it to the stage of it been accepted by our model else it will thrown error at our face\n",
    "* Then we run a prediction on the model\n",
    "* Our prediction will be output as a CSV file which can be shared with our stakeholders"
   ]
  },
  {
   "cell_type": "code",
   "execution_count": 13,
   "id": "fc310c36-4374-4ae6-93f0-40441a3ece7c",
   "metadata": {},
   "outputs": [],
   "source": [
    "# Wrangling function for our test data which is an extract of the wrangling for the train data\n",
    "def wrangling_test(path):\n",
    "    df = pd.read_csv(path, index_col='id')\n",
    "    \n",
    "    # Summing all the user activity\n",
    "    user_activity_col = [x for x in df.columns if x.startswith(\"user\")]\n",
    "    df[\"sum_user_activities\"] = np.sum([df[x] for x in user_activity_col], 0)\n",
    "    \n",
    "    # Making the date columns usable for our model\n",
    "    df[\"created_at\"] = pd.to_datetime(df[\"created_at\"], format=\"%Y-%m-%d\")\n",
    "    df[\"signup_date\"] = pd.to_datetime(df[\"signup_date\"], format=\"%Y-%m-%d\")\n",
    "    day = df[\"created_at\"] - df[\"signup_date\"]\n",
    "    day = day.replace({np.nan:day.max()})\n",
    "    day = day.astype('str').str.split(\" \", expand=True)[0]\n",
    "    day[\"day\"] = np.abs(day.astype('int'))\n",
    "    \n",
    "    # Summing the campaign vars in the data\n",
    "    camp_col = [x for x in df.columns if x.startswith(\"camp\")]\n",
    "    df[\"sum_camp\"] = np.sum([df[x] for x in camp_col], 0)\n",
    "    \n",
    "    # imputting missing value\n",
    "    df[\"products_purchased\"] = df[\"products_purchased\"].fillna(0)\n",
    "    \n",
    "    # Removing unwanted columns\n",
    "    df.drop(columns = camp_col + [\"created_at\", \"signup_date\"] + user_activity_col, inplace=True)\n",
    "    return df"
   ]
  },
  {
   "cell_type": "code",
   "execution_count": 14,
   "id": "9599e59c-0157-4f9d-bde2-ca476160f546",
   "metadata": {},
   "outputs": [
    {
     "data": {
      "text/html": [
       "<div>\n",
       "<style scoped>\n",
       "    .dataframe tbody tr th:only-of-type {\n",
       "        vertical-align: middle;\n",
       "    }\n",
       "\n",
       "    .dataframe tbody tr th {\n",
       "        vertical-align: top;\n",
       "    }\n",
       "\n",
       "    .dataframe thead th {\n",
       "        text-align: right;\n",
       "    }\n",
       "</style>\n",
       "<table border=\"1\" class=\"dataframe\">\n",
       "  <thead>\n",
       "    <tr style=\"text-align: right;\">\n",
       "      <th></th>\n",
       "      <th>products_purchased</th>\n",
       "      <th>sum_user_activities</th>\n",
       "      <th>sum_camp</th>\n",
       "    </tr>\n",
       "    <tr>\n",
       "      <th>id</th>\n",
       "      <th></th>\n",
       "      <th></th>\n",
       "      <th></th>\n",
       "    </tr>\n",
       "  </thead>\n",
       "  <tbody>\n",
       "    <tr>\n",
       "      <th>39162</th>\n",
       "      <td>0.0</td>\n",
       "      <td>4</td>\n",
       "      <td>4</td>\n",
       "    </tr>\n",
       "    <tr>\n",
       "      <th>39163</th>\n",
       "      <td>3.0</td>\n",
       "      <td>2</td>\n",
       "      <td>11</td>\n",
       "    </tr>\n",
       "    <tr>\n",
       "      <th>39164</th>\n",
       "      <td>0.0</td>\n",
       "      <td>2</td>\n",
       "      <td>15</td>\n",
       "    </tr>\n",
       "    <tr>\n",
       "      <th>39165</th>\n",
       "      <td>2.0</td>\n",
       "      <td>5</td>\n",
       "      <td>17</td>\n",
       "    </tr>\n",
       "    <tr>\n",
       "      <th>39166</th>\n",
       "      <td>2.0</td>\n",
       "      <td>1</td>\n",
       "      <td>9</td>\n",
       "    </tr>\n",
       "  </tbody>\n",
       "</table>\n",
       "</div>"
      ],
      "text/plain": [
       "       products_purchased  sum_user_activities  sum_camp\n",
       "id                                                      \n",
       "39162                 0.0                    4         4\n",
       "39163                 3.0                    2        11\n",
       "39164                 0.0                    2        15\n",
       "39165                 2.0                    5        17\n",
       "39166                 2.0                    1         9"
      ]
     },
     "execution_count": 14,
     "metadata": {},
     "output_type": "execute_result"
    }
   ],
   "source": [
    "# Applying the wrangling function to our test data\n",
    "X_test = wrangling_test(test_pth)\n",
    "X_test.head() # Previewing our data after wrangling"
   ]
  },
  {
   "cell_type": "code",
   "execution_count": 15,
   "id": "44696216-4b67-4520-bdae-d8e7d0c2fcb2",
   "metadata": {},
   "outputs": [],
   "source": [
    "# predicting the class label for our test data\n",
    "test_pred = xgb_model.predict(X_test)"
   ]
  },
  {
   "cell_type": "code",
   "execution_count": 16,
   "id": "96bf7996-a2f8-42f0-a2af-bd0a673246e0",
   "metadata": {},
   "outputs": [
    {
     "data": {
      "text/html": [
       "<div>\n",
       "<style scoped>\n",
       "    .dataframe tbody tr th:only-of-type {\n",
       "        vertical-align: middle;\n",
       "    }\n",
       "\n",
       "    .dataframe tbody tr th {\n",
       "        vertical-align: top;\n",
       "    }\n",
       "\n",
       "    .dataframe thead th {\n",
       "        text-align: right;\n",
       "    }\n",
       "</style>\n",
       "<table border=\"1\" class=\"dataframe\">\n",
       "  <thead>\n",
       "    <tr style=\"text-align: right;\">\n",
       "      <th></th>\n",
       "      <th>buy</th>\n",
       "    </tr>\n",
       "    <tr>\n",
       "      <th>id</th>\n",
       "      <th></th>\n",
       "    </tr>\n",
       "  </thead>\n",
       "  <tbody>\n",
       "    <tr>\n",
       "      <th>46495</th>\n",
       "      <td>1</td>\n",
       "    </tr>\n",
       "    <tr>\n",
       "      <th>41620</th>\n",
       "      <td>1</td>\n",
       "    </tr>\n",
       "    <tr>\n",
       "      <th>40857</th>\n",
       "      <td>0</td>\n",
       "    </tr>\n",
       "    <tr>\n",
       "      <th>40087</th>\n",
       "      <td>0</td>\n",
       "    </tr>\n",
       "    <tr>\n",
       "      <th>50719</th>\n",
       "      <td>0</td>\n",
       "    </tr>\n",
       "  </tbody>\n",
       "</table>\n",
       "</div>"
      ],
      "text/plain": [
       "       buy\n",
       "id        \n",
       "46495    1\n",
       "41620    1\n",
       "40857    0\n",
       "40087    0\n",
       "50719    0"
      ]
     },
     "execution_count": 16,
     "metadata": {},
     "output_type": "execute_result"
    }
   ],
   "source": [
    "# Storing our test_pred in a dataframe\n",
    "test_pred_df = pd.DataFrame({\"buy\":test_pred, \"id\":X_test.index}).set_index(\"id\")\n",
    "test_pred_df.sample(5)"
   ]
  },
  {
   "cell_type": "code",
   "execution_count": 17,
   "id": "255f2269-534e-47d7-bc4d-d1d6ce192560",
   "metadata": {},
   "outputs": [
    {
     "name": "stdout",
     "output_type": "stream",
     "text": [
      "model name: XGBClassifier\n"
     ]
    }
   ],
   "source": [
    "# Extracting our model name from the model using regex\n",
    "import re # importing regex\n",
    "\n",
    "# Model name extractor and stored using the variable name model_name\n",
    "model_name = (re.match(\"[A-Za-z]*\", str(xgb_model.named_steps[\"xgradientboost\"].__class__)\n",
    "              .split(\".\")[-1])\n",
    "              .group(0)\n",
    "             )\n",
    "print(\"model name:\", model_name)"
   ]
  },
  {
   "cell_type": "code",
   "execution_count": 19,
   "id": "adf57dd1-59ed-44ef-8e02-cdf7b51f57a5",
   "metadata": {},
   "outputs": [],
   "source": [
    "# Exporting our predicted labels to csv\n",
    "test_pred_df.to_csv(model_name + \"_model.csv\")"
   ]
  }
 ],
 "metadata": {
  "kernelspec": {
   "display_name": "Python 3",
   "language": "python",
   "name": "python3"
  },
  "language_info": {
   "codemirror_mode": {
    "name": "ipython",
    "version": 3
   },
   "file_extension": ".py",
   "mimetype": "text/x-python",
   "name": "python",
   "nbconvert_exporter": "python",
   "pygments_lexer": "ipython3",
   "version": "3.7.4"
  }
 },
 "nbformat": 4,
 "nbformat_minor": 5
}
